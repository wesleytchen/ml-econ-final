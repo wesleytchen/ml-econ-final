{
 "cells": [
  {
   "cell_type": "code",
   "execution_count": 384,
   "metadata": {},
   "outputs": [],
   "source": [
    "import pandas as pd\n",
    "import numpy as np\n",
    "import os\n",
    "from pathlib import Path\n",
    "import cvxpy as cp\n",
    "from scipy.stats import norm\n",
    "from sklearn.preprocessing import StandardScaler\n",
    "from sklearn.linear_model import Lasso, LassoCV, LinearRegression\n",
    "from sklearn.model_selection import train_test_split\n",
    "import statsmodels.api as sm\n",
    "import matplotlib.pyplot as plt\n",
    "\n",
    "abspath = os.path.abspath(os.getcwd())\n",
    "finpath = Path(abspath).resolve().parent\n",
    "parent_path = str(finpath) + '/'\n",
    "\n",
    "final_df = pd.read_csv(parent_path + \"FinalDF.csv\")\n",
    "adj_counties = pd.read_csv(parent_path + \"AdjacentDelta.csv\")\n",
    "final_df[\"Population\"] = np.sqrt(final_df[\"Population\"]) / np.sqrt(final_df[\"Population\"].max()) #Ask about specific transformation for weighting to use here"
   ]
  },
  {
   "cell_type": "code",
   "execution_count": 2,
   "metadata": {},
   "outputs": [],
   "source": [
    "def standardize_df(df):\n",
    "    df = df.select_dtypes(exclude=['object'])\n",
    "    feature_cols = df.columns[2:]\n",
    "    std_final_df = pd.DataFrame(StandardScaler().fit_transform(df.iloc[:, 2:]), columns=feature_cols)\n",
    "    pop_df = df[\"Population\"]\n",
    "    return std_final_df, pop_df\n",
    "\n",
    "def shuffle_data(data, labels, p):\n",
    "    indices = np.random.permutation(len(data))\n",
    "    return data[indices], labels[indices], p[indices]\n",
    "\n",
    "def split_data(data, labels, p):\n",
    "    size = len(data)\n",
    "    index_eighty = int(size*0.8)\n",
    "    train_data = data[:index_eighty]\n",
    "    train_labels = labels[:index_eighty]\n",
    "    train_p = p[:index_eighty]\n",
    "    test_data = data[index_eighty:]\n",
    "    test_labels = labels[index_eighty:]\n",
    "    test_p = p[index_eighty:]\n",
    "    return train_data, train_labels, train_p, test_data, test_labels, test_p"
   ]
  },
  {
   "cell_type": "code",
   "execution_count": 273,
   "metadata": {},
   "outputs": [],
   "source": [
    "median_income = final_df[\"Median Household Income\"].median()\n",
    "df_upper_income = final_df[final_df[\"Median Household Income\"] >= median_income]\n",
    "df_lower_income = final_df[final_df[\"Median Household Income\"] < median_income]\n",
    "#print(df_upper_income[\"Population\"])\n",
    "#print(df_lower_income.shape)\n",
    "\n",
    "# Here, our dataframes are not the same shapes because % Completed High School has many values at the median,\n",
    "# but the number of observations in the dataframes are 1197 for the upper bracket and 1209 for the lower bracket,\n",
    "# which we found to be acceptable for running our regression analysis on\n",
    "median_edu = final_df[\"% Completed High School\"].median()\n",
    "df_upper_edu = final_df[final_df[\"% Completed High School\"] > median_edu]\n",
    "df_lower_edu = final_df[final_df[\"% Completed High School\"] <= median_edu]\n",
    "\n",
    "# Adjacent counties regression\n",
    "\n",
    "adj_counties = adj_counties.select_dtypes(exclude=['object'])\n",
    "\n",
    "\n",
    "# Standardizing values and creating all the matrices we need to run Lasso\n",
    "\n",
    "df_lst = [final_df, df_upper_income, df_lower_income, df_upper_edu, df_lower_edu, adj_counties] #Want to add adj_counties to this list after Population column is added\n",
    "params_lst = []\n",
    "for frame in df_lst:\n",
    "    std_frame, pop_df = standardize_df(frame)\n",
    "    label_df = std_frame[\"% Smokers\"]\n",
    "    IV_df = std_frame[\"Cig Tax Rate\"]\n",
    "    features_df = std_frame.drop(columns=[\"% Smokers\", \"Cig Tax Rate\"])\n",
    "    p = np.array([pop_df]).T\n",
    "    X = np.array(features_df)\n",
    "    IV = np.array([IV_df]).T\n",
    "    y = np.array([label_df]).T\n",
    "    values = [X, IV, y, p]\n",
    "    params_lst.append(values)"
   ]
  },
  {
   "cell_type": "code",
   "execution_count": 5,
   "metadata": {},
   "outputs": [],
   "source": [
    "def cross_validation(params, lower, upper, lambdas, folds):\n",
    "    X, IV, y, p = params\n",
    "    lams = np.linspace(lower, upper, lambdas)\n",
    "    error_lst = []\n",
    "    gen_params_lst = []\n",
    "    min_error = 100000000\n",
    "    best_lam = None\n",
    "    for _ in range(folds):\n",
    "        X_s, y_s, p_s = shuffle_data(X, y, p)\n",
    "        gen_params = split_data(X_s, y_s, p_s)\n",
    "        gen_params_lst.append(gen_params)\n",
    "    for lam in lams:\n",
    "        sum_error = 0\n",
    "        for gen_params in gen_params_lst:\n",
    "            train_X, train_y, train_p, test_X, test_y, test_p = gen_params\n",
    "            B = cp.Variable((train_X.shape[1], 1))\n",
    "            objective = cp.Minimize(((train_y - train_p.T @ train_X @ B) ** 2) + lam * cp.norm1(B))\n",
    "            constraints = []\n",
    "            prob = cp.Problem(objective, constraints)\n",
    "            prob.solve()\n",
    "            betas = np.array(B.value)\n",
    "            error = (((test_y - test_p.T @ test_X @ betas) ** 2))\n",
    "            sum_error += float(error)\n",
    "        if sum_error < min_error:\n",
    "            min_error = sum_error\n",
    "            best_lam = lam\n",
    "        error_lst.append(sum_error)\n",
    "    print(best_lam)\n",
    "    plt.plot(lams, error_lst)\n",
    "    plt.show()\n"
   ]
  },
  {
   "cell_type": "code",
   "execution_count": 190,
   "metadata": {},
   "outputs": [
    {
     "name": "stdout",
     "output_type": "stream",
     "text": [
      "0.0\n"
     ]
    },
    {
     "data": {
      "image/png": "[encoded data removed]",
      "text/plain": [
       "<Figure size 432x288 with 1 Axes>"
      ]
     },
     "metadata": {
      "needs_background": "light"
     },
     "output_type": "display_data"
    }
   ],
   "source": [
    "cross_validation(params_lst[0], 0, 0.5, 10, 10)"
   ]
  },
  {
   "cell_type": "code",
   "execution_count": 191,
   "metadata": {},
   "outputs": [
    {
     "name": "stdout",
     "output_type": "stream",
     "text": [
      "1.0\n"
     ]
    },
    {
     "data": {
      "image/png": "[encoded data removed]",
      "text/plain": [
       "<Figure size 432x288 with 1 Axes>"
      ]
     },
     "metadata": {
      "needs_background": "light"
     },
     "output_type": "display_data"
    }
   ],
   "source": [
    "cross_validation(params_lst[1], 0.0, 1, 10, 10)"
   ]
  },
  {
   "cell_type": "code",
   "execution_count": null,
   "metadata": {},
   "outputs": [
    {
     "name": "stdout",
     "output_type": "stream",
     "text": [
      "1.0\n"
     ]
    },
    {
     "data": {
      "image/png": "[encoded data removed]",
      "text/plain": [
       "<Figure size 432x288 with 1 Axes>"
      ]
     },
     "metadata": {},
     "output_type": "display_data"
    }
   ],
   "source": [
    "cross_validation(params_lst[1], 0.0, 1, 10, 10)"
   ]
  },
  {
   "cell_type": "code",
   "execution_count": 157,
   "metadata": {},
   "outputs": [
    {
     "name": "stdout",
     "output_type": "stream",
     "text": [
      "0.08080808080808081\n"
     ]
    },
    {
     "data": {
      "image/png": "[encoded data removed]",
      "text/plain": [
       "<Figure size 432x288 with 1 Axes>"
      ]
     },
     "metadata": {
      "needs_background": "light"
     },
     "output_type": "display_data"
    }
   ],
   "source": [
    "cross_validation(params_lst[2], 0.0, 0.5, 100, 20)"
   ]
  },
  {
   "cell_type": "code",
   "execution_count": 158,
   "metadata": {},
   "outputs": [
    {
     "name": "stdout",
     "output_type": "stream",
     "text": [
      "0.4040404040404041\n"
     ]
    },
    {
     "data": {
      "image/png": "[encoded data removed]",
      "text/plain": [
       "<Figure size 432x288 with 1 Axes>"
      ]
     },
     "metadata": {
      "needs_background": "light"
     },
     "output_type": "display_data"
    }
   ],
   "source": [
    "cross_validation(params_lst[3], 0.0, 0.5, 100, 20)"
   ]
  },
  {
   "cell_type": "code",
   "execution_count": 159,
   "metadata": {},
   "outputs": [
    {
     "name": "stdout",
     "output_type": "stream",
     "text": [
      "0.6262626262626263\n"
     ]
    },
    {
     "data": {
      "image/png": "[encoded data removed]",
      "text/plain": [
       "<Figure size 432x288 with 1 Axes>"
      ]
     },
     "metadata": {
      "needs_background": "light"
     },
     "output_type": "display_data"
    }
   ],
   "source": [
    "cross_validation(params_lst[4], 0.0, 1, 100, 20)"
   ]
  },
  {
   "cell_type": "code",
   "execution_count": 195,
   "metadata": {},
   "outputs": [],
   "source": [
    "def cross_validation2(params, lower, upper, lambdas, folds):\n",
    "    X, IV, y, p = params\n",
    "    lams = np.linspace(lower, upper, lambdas)\n",
    "    error_lst = []\n",
    "    gen_params_lst = []\n",
    "    min_error = 100000000\n",
    "    best_lam = None\n",
    "    for _ in range(folds):\n",
    "        IV_s, y_s, p_s = shuffle_data(IV, y, p)\n",
    "        gen_params = split_data(IV_s, y_s, p_s)\n",
    "        gen_params_lst.append(gen_params)\n",
    "    for lam in lams:\n",
    "        sum_error = 0\n",
    "        for gen_params in gen_params_lst:\n",
    "            train_IV, train_y, train_p, test_IV, test_y, test_p = gen_params\n",
    "            B = cp.Variable((train_IV.shape[1], 1))\n",
    "            objective = cp.Minimize(( (train_y - train_p.T @ train_IV @ B) ** 2) + lam * cp.norm1(B))\n",
    "            constraints = []\n",
    "            prob = cp.Problem(objective, constraints)\n",
    "            prob.solve()\n",
    "            betas = np.array(B.value)\n",
    "            error = (((test_y - test_p.T @ test_IV @ betas) ** 2))\n",
    "            sum_error += float(error)\n",
    "        if sum_error < min_error:\n",
    "            min_error = sum_error\n",
    "            best_lam = lam\n",
    "        error_lst.append(sum_error)\n",
    "    print(best_lam)\n",
    "    plt.plot(lams, error_lst)\n",
    "    plt.show()\n"
   ]
  },
  {
   "cell_type": "code",
   "execution_count": 163,
   "metadata": {},
   "outputs": [
    {
     "name": "stdout",
     "output_type": "stream",
     "text": [
      "0.11111111111111112\n"
     ]
    },
    {
     "data": {
      "image/png": "[encoded data removed]",
      "text/plain": [
       "<Figure size 432x288 with 1 Axes>"
      ]
     },
     "metadata": {
      "needs_background": "light"
     },
     "output_type": "display_data"
    }
   ],
   "source": [
    "cross_validation(params_lst[0], 0.0, 0.5, 100, 20)"
   ]
  },
  {
   "cell_type": "code",
   "execution_count": 196,
   "metadata": {},
   "outputs": [
    {
     "ename": "ValueError",
     "evalue": "The 'minimize' objective must resolve to a scalar.",
     "output_type": "error",
     "traceback": [
      "\u001b[1;31m---------------------------------------------------------------------------\u001b[0m",
      "\u001b[1;31mValueError\u001b[0m                                Traceback (most recent call last)",
      "\u001b[1;32m<ipython-input-196-7c4056a83d64>\u001b[0m in \u001b[0;36m<module>\u001b[1;34m\u001b[0m\n\u001b[1;32m----> 1\u001b[1;33m \u001b[0mcross_validation2\u001b[0m\u001b[1;33m(\u001b[0m\u001b[0mparams_lst\u001b[0m\u001b[1;33m[\u001b[0m\u001b[1;36m1\u001b[0m\u001b[1;33m]\u001b[0m\u001b[1;33m,\u001b[0m \u001b[1;36m0.0\u001b[0m\u001b[1;33m,\u001b[0m \u001b[1;36m1\u001b[0m\u001b[1;33m,\u001b[0m \u001b[1;36m10\u001b[0m\u001b[1;33m,\u001b[0m \u001b[1;36m10\u001b[0m\u001b[1;33m)\u001b[0m\u001b[1;33m\u001b[0m\u001b[1;33m\u001b[0m\u001b[0m\n\u001b[0m",
      "\u001b[1;32m<ipython-input-195-3ca65efba2f0>\u001b[0m in \u001b[0;36mcross_validation2\u001b[1;34m(params, lower, upper, lambdas, folds)\u001b[0m\n\u001b[0;32m     15\u001b[0m             \u001b[0mtrain_IV\u001b[0m\u001b[1;33m,\u001b[0m \u001b[0mtrain_y\u001b[0m\u001b[1;33m,\u001b[0m \u001b[0mtrain_p\u001b[0m\u001b[1;33m,\u001b[0m \u001b[0mtest_IV\u001b[0m\u001b[1;33m,\u001b[0m \u001b[0mtest_y\u001b[0m\u001b[1;33m,\u001b[0m \u001b[0mtest_p\u001b[0m \u001b[1;33m=\u001b[0m \u001b[0mgen_params\u001b[0m\u001b[1;33m\u001b[0m\u001b[1;33m\u001b[0m\u001b[0m\n\u001b[0;32m     16\u001b[0m             \u001b[0mB\u001b[0m \u001b[1;33m=\u001b[0m \u001b[0mcp\u001b[0m\u001b[1;33m.\u001b[0m\u001b[0mVariable\u001b[0m\u001b[1;33m(\u001b[0m\u001b[1;33m(\u001b[0m\u001b[0mtrain_IV\u001b[0m\u001b[1;33m.\u001b[0m\u001b[0mshape\u001b[0m\u001b[1;33m[\u001b[0m\u001b[1;36m1\u001b[0m\u001b[1;33m]\u001b[0m\u001b[1;33m,\u001b[0m \u001b[1;36m1\u001b[0m\u001b[1;33m)\u001b[0m\u001b[1;33m)\u001b[0m\u001b[1;33m\u001b[0m\u001b[1;33m\u001b[0m\u001b[0m\n\u001b[1;32m---> 17\u001b[1;33m             \u001b[0mobjective\u001b[0m \u001b[1;33m=\u001b[0m \u001b[0mcp\u001b[0m\u001b[1;33m.\u001b[0m\u001b[0mMinimize\u001b[0m\u001b[1;33m(\u001b[0m\u001b[1;33m(\u001b[0m \u001b[1;33m(\u001b[0m\u001b[0mtrain_y\u001b[0m \u001b[1;33m-\u001b[0m \u001b[0mtrain_p\u001b[0m\u001b[1;33m.\u001b[0m\u001b[0mT\u001b[0m \u001b[1;33m@\u001b[0m \u001b[0mtrain_IV\u001b[0m \u001b[1;33m@\u001b[0m \u001b[0mB\u001b[0m\u001b[1;33m)\u001b[0m \u001b[1;33m**\u001b[0m \u001b[1;36m2\u001b[0m\u001b[1;33m)\u001b[0m \u001b[1;33m+\u001b[0m \u001b[0mlam\u001b[0m \u001b[1;33m*\u001b[0m \u001b[0mcp\u001b[0m\u001b[1;33m.\u001b[0m\u001b[0mnorm1\u001b[0m\u001b[1;33m(\u001b[0m\u001b[0mB\u001b[0m\u001b[1;33m)\u001b[0m\u001b[1;33m)\u001b[0m\u001b[1;33m\u001b[0m\u001b[1;33m\u001b[0m\u001b[0m\n\u001b[0m\u001b[0;32m     18\u001b[0m             \u001b[0mconstraints\u001b[0m \u001b[1;33m=\u001b[0m \u001b[1;33m[\u001b[0m\u001b[1;33m]\u001b[0m\u001b[1;33m\u001b[0m\u001b[1;33m\u001b[0m\u001b[0m\n\u001b[0;32m     19\u001b[0m             \u001b[0mprob\u001b[0m \u001b[1;33m=\u001b[0m \u001b[0mcp\u001b[0m\u001b[1;33m.\u001b[0m\u001b[0mProblem\u001b[0m\u001b[1;33m(\u001b[0m\u001b[0mobjective\u001b[0m\u001b[1;33m,\u001b[0m \u001b[0mconstraints\u001b[0m\u001b[1;33m)\u001b[0m\u001b[1;33m\u001b[0m\u001b[1;33m\u001b[0m\u001b[0m\n",
      "\u001b[1;32mc:\\Users\\spont\\anaconda3\\lib\\site-packages\\cvxpy\\problems\\objective.py\u001b[0m in \u001b[0;36m__init__\u001b[1;34m(self, expr)\u001b[0m\n\u001b[0;32m     44\u001b[0m         \u001b[1;32mif\u001b[0m \u001b[1;32mnot\u001b[0m \u001b[0mself\u001b[0m\u001b[1;33m.\u001b[0m\u001b[0margs\u001b[0m\u001b[1;33m[\u001b[0m\u001b[1;36m0\u001b[0m\u001b[1;33m]\u001b[0m\u001b[1;33m.\u001b[0m\u001b[0mis_scalar\u001b[0m\u001b[1;33m(\u001b[0m\u001b[1;33m)\u001b[0m\u001b[1;33m:\u001b[0m\u001b[1;33m\u001b[0m\u001b[1;33m\u001b[0m\u001b[0m\n\u001b[0;32m     45\u001b[0m             raise ValueError(\"The '%s' objective must resolve to a scalar.\"\n\u001b[1;32m---> 46\u001b[1;33m                              % self.NAME)\n\u001b[0m\u001b[0;32m     47\u001b[0m         \u001b[1;32mif\u001b[0m \u001b[1;32mnot\u001b[0m \u001b[0mself\u001b[0m\u001b[1;33m.\u001b[0m\u001b[0margs\u001b[0m\u001b[1;33m[\u001b[0m\u001b[1;36m0\u001b[0m\u001b[1;33m]\u001b[0m\u001b[1;33m.\u001b[0m\u001b[0mis_real\u001b[0m\u001b[1;33m(\u001b[0m\u001b[1;33m)\u001b[0m\u001b[1;33m:\u001b[0m\u001b[1;33m\u001b[0m\u001b[1;33m\u001b[0m\u001b[0m\n\u001b[0;32m     48\u001b[0m             raise ValueError(\"The '%s' objective must be real valued.\"\n",
      "\u001b[1;31mValueError\u001b[0m: The 'minimize' objective must resolve to a scalar."
     ]
    }
   ],
   "source": [
    "cross_validation2(params_lst[1], 0.0, 1, 10, 10)"
   ]
  },
  {
   "cell_type": "code",
   "execution_count": 165,
   "metadata": {},
   "outputs": [
    {
     "name": "stdout",
     "output_type": "stream",
     "text": [
      "0.10606060606060606\n"
     ]
    },
    {
     "data": {
      "image/png": "[encoded data removed]",
      "text/plain": [
       "<Figure size 432x288 with 1 Axes>"
      ]
     },
     "metadata": {
      "needs_background": "light"
     },
     "output_type": "display_data"
    }
   ],
   "source": [
    "cross_validation(params_lst[2], 0.0, 0.5, 100, 20)"
   ]
  },
  {
   "cell_type": "code",
   "execution_count": 166,
   "metadata": {},
   "outputs": [
    {
     "name": "stdout",
     "output_type": "stream",
     "text": [
      "0.4545454545454546\n"
     ]
    },
    {
     "data": {
      "image/png": "[encoded data removed]",
      "text/plain": [
       "<Figure size 432x288 with 1 Axes>"
      ]
     },
     "metadata": {
      "needs_background": "light"
     },
     "output_type": "display_data"
    }
   ],
   "source": [
    "cross_validation(params_lst[3], 0.0, 0.5, 100, 20)"
   ]
  },
  {
   "cell_type": "code",
   "execution_count": 167,
   "metadata": {},
   "outputs": [
    {
     "name": "stdout",
     "output_type": "stream",
     "text": [
      "0.08080808080808081\n"
     ]
    },
    {
     "data": {
      "image/png": "[encoded data removed]",
      "text/plain": [
       "<Figure size 432x288 with 1 Axes>"
      ]
     },
     "metadata": {
      "needs_background": "light"
     },
     "output_type": "display_data"
    }
   ],
   "source": [
    "cross_validation(params_lst[4], 0.0, 1, 100, 20)"
   ]
  },
  {
   "cell_type": "code",
   "execution_count": 326,
   "metadata": {},
   "outputs": [],
   "source": [
    "def lasso_IV(lambda_IV, params):\n",
    "    X, y, IV, p = params\n",
    "    model = Lasso(alpha=lambda_IV, max_iter=10000).fit(X, IV.ravel())\n",
    "    betas_IV = np.array(model.coef_)\n",
    "    return betas_IV\n",
    "\n",
    "def lasso_y(lambda_y, params):\n",
    "    X, y, IV, p = params\n",
    "    model = Lasso(alpha=lambda_y, max_iter=10000).fit(X, y.ravel())\n",
    "    betas_y = np.array(model.coef_)\n",
    "    return betas_y\n",
    "\n",
    "def OLS(betas_IV, betas_y, params):\n",
    "    X, y, IV, p = params\n",
    "    betas = abs(betas_y) + abs(betas_IV)\n",
    "    betadict = {k: v for k, v in enumerate(betas.tolist())}\n",
    "    relevantbetadict = {k:v for (k, v) in betadict.items() if v >= 10 ** -5}\n",
    "    covariates = ((betas >= 10 ** -5)).flatten()\n",
    "    relevantbetadict[48] = betas[0] \n",
    "    X_cov = np.concatenate((IV, X[:, covariates]), axis=1)\n",
    "    model = sm.OLS(y, pd.DataFrame(X_cov, columns=[generated.columns.tolist()[2:][i] for i in relevantbetadict.keys()]))\n",
    "    results = model.fit()\n",
    "    betas = results.params\n",
    "    relevantbetadict[48] = betas[0] \n",
    "    return betas, relevantbetadict, results\n",
    "\n",
    "def double_lasso(lambda_IV, lambda_y, params):\n",
    "    betas_IV = lasso_IV(lambda_IV, params)\n",
    "    betas_y = lasso_y(lambda_y, params)\n",
    "    betas, relevantbetadict, results = OLS(betas_IV, betas_y, params)\n",
    "\n",
    "\n",
    "    return betas, relevantbetadict, results\n",
    "\n",
    "def getlambdas():\n",
    "    lambdaIV = []\n",
    "    lambdaY = []\n",
    "    for param in params_lst:\n",
    "        CV = LassoCV(cv=10, max_iter=10000).fit(param[0], param[2].ravel())\n",
    "        CV2 = LassoCV(cv=10, max_iter=10000).fit(param[0], param[1].ravel())\n",
    "\n",
    "        lambdaY.append(CV.alpha_)\n",
    "        lambdaIV.append(CV2.alpha_)\n",
    "\n",
    "    return lambdaY, lambdaIV\n",
    "\n",
    "lambdaY, lambdaIV = getlambdas()"
   ]
  },
  {
   "cell_type": "code",
   "execution_count": 327,
   "metadata": {},
   "outputs": [
    {
     "name": "stdout",
     "output_type": "stream",
     "text": [
      "                                 OLS Regression Results                                \n",
      "=======================================================================================\n",
      "Dep. Variable:                      y   R-squared (uncentered):                   0.481\n",
      "Model:                            OLS   Adj. R-squared (uncentered):              0.471\n",
      "Method:                 Least Squares   F-statistic:                              49.74\n",
      "Date:                Tue, 31 May 2022   Prob (F-statistic):                   8.09e-299\n",
      "Time:                        04:40:15   Log-Likelihood:                         -2625.1\n",
      "No. Observations:                2406   AIC:                                      5338.\n",
      "Df Residuals:                    2362   BIC:                                      5593.\n",
      "Df Model:                          44                                                  \n",
      "Covariance Type:            nonrobust                                                  \n",
      "============================================================================================================\n",
      "                                               coef    std err          t      P>|t|      [0.025      0.975]\n",
      "------------------------------------------------------------------------------------------------------------\n",
      "% Adults with Obesity                       -0.0664      0.051     -1.309      0.191      -0.166       0.033\n",
      "Food Environment Index                       0.0293      0.022      1.310      0.190      -0.015       0.073\n",
      "% Physically Inactive                        0.0201      0.035      0.575      0.565      -0.048       0.088\n",
      "% With Access to Exercise Opportunities     -0.0345      0.024     -1.414      0.158      -0.082       0.013\n",
      "% Excessive Drinking                         0.0100      0.021      0.472      0.637      -0.032       0.052\n",
      "Teen Birth Rate                              0.2338      0.027      8.579      0.000       0.180       0.287\n",
      "Primary Care Physicians Rate                -0.0323      0.034     -0.944      0.345      -0.099       0.035\n",
      "Dentist Rate                                -0.0316      0.021     -1.485      0.138      -0.073       0.010\n",
      "Mental Health Provider Rate                  0.0339      0.022      1.519      0.129      -0.010       0.078\n",
      "% With Annual Mammogram                      0.1440      0.020      7.364      0.000       0.106       0.182\n",
      "% Vaccinated                                -0.0237      0.023     -1.030      0.303      -0.069       0.021\n",
      "% Fair or Poor Health                        0.0448      0.020      2.195      0.028       0.005       0.085\n",
      "% Low birthweight                           -0.8134      0.097     -8.362      0.000      -1.004      -0.623\n",
      "% Completed High School                     -0.1418      0.027     -5.228      0.000      -0.195      -0.089\n",
      "% Some College                               0.1861      0.041      4.496      0.000       0.105       0.267\n",
      "% Unemployed                                -0.1694      0.033     -5.184      0.000      -0.233      -0.105\n",
      "% Children in Poverty                        0.2945      0.021     14.334      0.000       0.254       0.335\n",
      "Income Ratio                                 0.1547      0.044      3.521      0.000       0.069       0.241\n",
      "Social Association Rate                      0.0618      0.023      2.673      0.008       0.016       0.107\n",
      "Average Daily PM2.5                          0.1469      0.020      7.527      0.000       0.109       0.185\n",
      "Presence of Water Violation                 -0.0741      0.020     -3.703      0.000      -0.113      -0.035\n",
      "% Severe Housing Problems                    0.0686      0.016      4.369      0.000       0.038       0.099\n",
      "% Drive Alone to Work                        0.1048      0.026      4.007      0.000       0.054       0.156\n",
      "% Long Commute - Drives Alone               -0.0716      0.021     -3.364      0.001      -0.113      -0.030\n",
      "% Less Than 18 Years of Age                 -0.0613      0.023     -2.619      0.009      -0.107      -0.015\n",
      "% 65 and Over                               -0.0705      0.028     -2.511      0.012      -0.126      -0.015\n",
      "% Black                                     -0.1519      0.030     -5.045      0.000      -0.211      -0.093\n",
      "% Asian                                     -1.5180      0.243     -6.260      0.000      -1.994      -1.042\n",
      "% Native Hawaiian/Other Pacific Islander    -0.2426      0.056     -4.349      0.000      -0.352      -0.133\n",
      "% American Indian & Alaska Native           -0.0403      0.017     -2.303      0.021      -0.075      -0.006\n",
      "% Hispanic                                  -0.7256      0.113     -6.420      0.000      -0.947      -0.504\n",
      "% Non-Hispanic White                        -1.1255      0.235     -4.783      0.000      -1.587      -0.664\n",
      "% Not Proficient in English                 -2.1031      0.338     -6.215      0.000      -2.767      -1.440\n",
      "% Homeowners                                 0.0413      0.035      1.184      0.236      -0.027       0.110\n",
      "% Broadband Access                           0.1542      0.029      5.238      0.000       0.096       0.212\n",
      "% Enrolled in Free or Reduced Lunch         -0.0182      0.030     -0.611      0.541      -0.077       0.040\n",
      "Median Household Income                      0.0313      0.033      0.942      0.346      -0.034       0.096\n",
      "% Insufficient Sleep                         0.1588      0.041      3.840      0.000       0.078       0.240\n",
      "% Food Insecure                              0.1458      0.031      4.760      0.000       0.086       0.206\n",
      "% Adults with Diabetes                      -0.1476      0.048     -3.070      0.002      -0.242      -0.053\n",
      "% Frequent Mental Distress                   0.0434      0.022      1.929      0.054      -0.001       0.087\n",
      "% Frequent Physical Distress                 0.1410      0.062      2.288      0.022       0.020       0.262\n",
      "Life Expectancy                              0.6107      0.080      7.611      0.000       0.453       0.768\n",
      "Cig Tax Rate                                -0.0277      0.031     -0.880      0.379      -0.089       0.034\n",
      "==============================================================================\n",
      "Omnibus:                       17.994   Durbin-Watson:                   0.571\n",
      "Prob(Omnibus):                  0.000   Jarque-Bera (JB):               18.362\n",
      "Skew:                          -0.196   Prob(JB):                     0.000103\n",
      "Kurtosis:                       3.172   Cond. No.                         128.\n",
      "==============================================================================\n",
      "\n",
      "Warnings:\n",
      "[1] Standard Errors assume that the covariance matrix of the errors is correctly specified.\n",
      "                                 OLS Regression Results                                \n",
      "=======================================================================================\n",
      "Dep. Variable:                      y   R-squared (uncentered):                   0.501\n",
      "Model:                            OLS   Adj. R-squared (uncentered):              0.480\n",
      "Method:                 Least Squares   F-statistic:                              24.17\n",
      "Date:                Tue, 31 May 2022   Prob (F-statistic):                   9.89e-141\n",
      "Time:                        04:40:15   Log-Likelihood:                         -1288.7\n",
      "No. Observations:                1203   AIC:                                      2673.\n",
      "Df Residuals:                    1155   BIC:                                      2918.\n",
      "Df Model:                          48                                                  \n",
      "Covariance Type:            nonrobust                                                  \n",
      "=============================================================================================================\n",
      "                                                coef    std err          t      P>|t|      [0.025      0.975]\n",
      "-------------------------------------------------------------------------------------------------------------\n",
      "% Adults with Obesity                        -0.0231      0.058     -0.402      0.688      -0.136       0.090\n",
      "Food Environment Index                        0.0888      0.034      2.580      0.010       0.021       0.156\n",
      "% Physically Inactive                         0.1523      0.215      0.710      0.478      -0.269       0.573\n",
      "% With Access to Exercise Opportunities      -0.0556      0.035     -1.580      0.114      -0.125       0.013\n",
      "% Excessive Drinking                          0.0965      0.032      3.052      0.002       0.034       0.159\n",
      "% Driving Deaths with Alcohol Involvement     0.1234      0.034      3.591      0.000       0.056       0.191\n",
      "Chlamydia Rate                               -0.0253      0.023     -1.108      0.268      -0.070       0.019\n",
      "Teen Birth Rate                              -0.0300      0.041     -0.731      0.465      -0.110       0.050\n",
      "Primary Care Physicians Rate                 -0.0817      0.045     -1.829      0.068      -0.169       0.006\n",
      "Mental Health Provider Rate                   0.0039      0.030      0.133      0.894      -0.054       0.062\n",
      "% With Annual Mammogram                       0.1358      0.033      4.149      0.000       0.072       0.200\n",
      "% Vaccinated                                 -0.0389      0.034     -1.149      0.251      -0.105       0.028\n",
      "% Fair or Poor Health                         0.0141      0.029      0.492      0.623      -0.042       0.070\n",
      "% Low birthweight                            -0.8344      0.103     -8.073      0.000      -1.037      -0.632\n",
      "% Completed High School                      -0.0828      0.032     -2.575      0.010      -0.146      -0.020\n",
      "% Some College                                0.0980      0.059      1.674      0.094      -0.017       0.213\n",
      "% Unemployed                                 -0.1494      0.048     -3.090      0.002      -0.244      -0.055\n",
      "% Children in Poverty                         0.3553      0.027     13.375      0.000       0.303       0.407\n",
      "Income Ratio                                  0.2184      0.046      4.704      0.000       0.127       0.310\n",
      "Violent Crime Rate                            0.0511      0.031      1.625      0.104      -0.011       0.113\n",
      "Social Association Rate                      -0.0138      0.030     -0.459      0.647      -0.073       0.045\n",
      "Average Daily PM2.5                           0.1138      0.031      3.720      0.000       0.054       0.174\n",
      "Injury Death Rate                            -0.0669      0.029     -2.333      0.020      -0.123      -0.011\n",
      "Presence of Water Violation                  -0.0141      0.034     -0.417      0.677      -0.081       0.052\n",
      "% Severe Housing Problems                     0.0608      0.022      2.736      0.006       0.017       0.104\n",
      "% Drive Alone to Work                         0.1054      0.044      2.403      0.016       0.019       0.192\n",
      "% Long Commute - Drives Alone                -0.0488      0.033     -1.478      0.140      -0.113       0.016\n",
      "% Less Than 18 Years of Age                  -0.0213      0.035     -0.604      0.546      -0.091       0.048\n",
      "% 65 and Over                                -0.0636      0.044     -1.451      0.147      -0.150       0.022\n",
      "% Black                                      -0.1842      0.048     -3.814      0.000      -0.279      -0.089\n",
      "% Asian                                      -0.8980      0.294     -3.055      0.002      -1.475      -0.321\n",
      "% Native Hawaiian/Other Pacific Islander     -0.2357      0.130     -1.807      0.071      -0.492       0.020\n",
      "% American Indian & Alaska Native            -0.0440      0.028     -1.580      0.114      -0.099       0.011\n",
      "% Hispanic                                   -0.2710      0.091     -2.977      0.003      -0.450      -0.092\n",
      "% Non-Hispanic White                         -0.7403      0.405     -1.827      0.068      -1.535       0.055\n",
      "% Not Proficient in English                  -1.4383      0.564     -2.548      0.011      -2.546      -0.331\n",
      "% Homeowners                                  0.0680      0.055      1.228      0.220      -0.041       0.177\n",
      "% Broadband Access                            0.1144      0.047      2.435      0.015       0.022       0.206\n",
      "% Enrolled in Free or Reduced Lunch          -0.0706      0.038     -1.865      0.062      -0.145       0.004\n",
      "Median Household Income                       0.0919      0.046      1.977      0.048       0.001       0.183\n",
      "% Insufficient Sleep                          0.0977      0.049      1.984      0.048       0.001       0.194\n",
      "% Limited Access to Healthy Foods             0.1268      0.042      3.018      0.003       0.044       0.209\n",
      "% Food Insecure                               0.0980      0.119      0.823      0.411      -0.136       0.332\n",
      "% Adults with Diabetes                       -0.0976      0.151     -0.648      0.517      -0.393       0.198\n",
      "% Frequent Mental Distress                    0.0161      0.030      0.539      0.590      -0.042       0.075\n",
      "% Frequent Physical Distress                  0.2525      0.069      3.685      0.000       0.118       0.387\n",
      "Life Expectancy                               0.3332      0.077      4.346      0.000       0.183       0.484\n",
      "Cig Tax Rate                                  0.0027      0.041      0.066      0.947      -0.077       0.082\n",
      "==============================================================================\n",
      "Omnibus:                       13.353   Durbin-Watson:                   0.607\n",
      "Prob(Omnibus):                  0.001   Jarque-Bera (JB):               16.765\n",
      "Skew:                          -0.152   Prob(JB):                     0.000229\n",
      "Kurtosis:                       3.492   Cond. No.                         125.\n",
      "==============================================================================\n",
      "\n",
      "Warnings:\n",
      "[1] Standard Errors assume that the covariance matrix of the errors is correctly specified.\n",
      "                                 OLS Regression Results                                \n",
      "=======================================================================================\n",
      "Dep. Variable:                      y   R-squared (uncentered):                   0.507\n",
      "Model:                            OLS   Adj. R-squared (uncentered):              0.486\n",
      "Method:                 Least Squares   F-statistic:                              24.23\n",
      "Date:                Tue, 31 May 2022   Prob (F-statistic):                   6.66e-143\n",
      "Time:                        04:40:15   Log-Likelihood:                         -1281.5\n",
      "No. Observations:                1203   AIC:                                      2661.\n",
      "Df Residuals:                    1154   BIC:                                      2911.\n",
      "Df Model:                          49                                                  \n",
      "Covariance Type:            nonrobust                                                  \n",
      "=============================================================================================================\n",
      "                                                coef    std err          t      P>|t|      [0.025      0.975]\n",
      "-------------------------------------------------------------------------------------------------------------\n",
      "% Adults with Obesity                        -0.0674      0.062     -1.086      0.278      -0.189       0.054\n",
      "Food Environment Index                        0.0146      0.027      0.532      0.595      -0.039       0.069\n",
      "% Physically Inactive                         0.3991      0.276      1.445      0.149      -0.143       0.941\n",
      "% With Access to Exercise Opportunities      -0.0132      0.028     -0.466      0.641      -0.069       0.042\n",
      "% Excessive Drinking                         -0.0299      0.027     -1.119      0.263      -0.082       0.023\n",
      "% Driving Deaths with Alcohol Involvement     0.3072      0.041      7.459      0.000       0.226       0.388\n",
      "Chlamydia Rate                                0.0205      0.023      0.911      0.362      -0.024       0.065\n",
      "Teen Birth Rate                               0.0224      0.044      0.505      0.613      -0.065       0.109\n",
      "Primary Care Physicians Rate                  0.0366      0.041      0.894      0.371      -0.044       0.117\n",
      "Dentist Rate                                 -0.0426      0.028     -1.499      0.134      -0.098       0.013\n",
      "Mental Health Provider Rate                   0.0333      0.028      1.170      0.242      -0.023       0.089\n",
      "% With Annual Mammogram                       0.1437      0.025      5.640      0.000       0.094       0.194\n",
      "% Vaccinated                                 -0.0300      0.030     -0.996      0.320      -0.089       0.029\n",
      "% Fair or Poor Health                         0.0422      0.027      1.585      0.113      -0.010       0.094\n",
      "% Low birthweight                            -0.5213      0.118     -4.424      0.000      -0.753      -0.290\n",
      "% Completed High School                      -0.1518      0.039     -3.922      0.000      -0.228      -0.076\n",
      "% Some College                                0.2771      0.052      5.374      0.000       0.176       0.378\n",
      "% Unemployed                                 -0.1166      0.037     -3.117      0.002      -0.190      -0.043\n",
      "% Children in Poverty                         0.2150      0.028      7.674      0.000       0.160       0.270\n",
      "Income Ratio                                  0.0923      0.048      1.906      0.057      -0.003       0.187\n",
      "Violent Crime Rate                            0.0598      0.030      1.966      0.050       0.000       0.120\n",
      "Social Association Rate                      -0.0224      0.028     -0.798      0.425      -0.078       0.033\n",
      "Average Daily PM2.5                           0.1582      0.027      5.966      0.000       0.106       0.210\n",
      "Injury Death Rate                            -0.0889      0.031     -2.880      0.004      -0.150      -0.028\n",
      "Presence of Water Violation                   0.0615      0.032      1.907      0.057      -0.002       0.125\n",
      "% Severe Housing Problems                     0.0715      0.023      3.146      0.002       0.027       0.116\n",
      "% Drive Alone to Work                         0.0674      0.034      2.012      0.045       0.002       0.133\n",
      "% Long Commute - Drives Alone                -0.0754      0.029     -2.594      0.010      -0.132      -0.018\n",
      "% Less Than 18 Years of Age                  -0.0908      0.032     -2.799      0.005      -0.154      -0.027\n",
      "% 65 and Over                                -0.1302      0.039     -3.325      0.001      -0.207      -0.053\n",
      "% Black                                      -0.1786      0.043     -4.197      0.000      -0.262      -0.095\n",
      "% Asian                                      -2.3133      0.364     -6.360      0.000      -3.027      -1.600\n",
      "% Native Hawaiian/Other Pacific Islander     -0.1282      0.036     -3.547      0.000      -0.199      -0.057\n",
      "% American Indian & Alaska Native            -0.0433      0.023     -1.902      0.057      -0.088       0.001\n",
      "% Hispanic                                   -1.2141      0.187     -6.487      0.000      -1.581      -0.847\n",
      "% Non-Hispanic White                         -1.5861      0.313     -5.069      0.000      -2.200      -0.972\n",
      "% Not Proficient in English                  -2.9737      0.457     -6.502      0.000      -3.871      -2.076\n",
      "% Homeowners                                  0.0502      0.046      1.083      0.279      -0.041       0.141\n",
      "% Broadband Access                            0.1928      0.041      4.752      0.000       0.113       0.272\n",
      "% Enrolled in Free or Reduced Lunch           0.0177      0.033      0.529      0.597      -0.048       0.083\n",
      "Median Household Income                      -0.0140      0.036     -0.392      0.695      -0.084       0.056\n",
      "% Insufficient Sleep                          0.0933      0.044      2.124      0.034       0.007       0.180\n",
      "% Limited Access to Healthy Foods             0.2238      0.040      5.556      0.000       0.145       0.303\n",
      "% Food Insecure                               0.2382      0.178      1.337      0.181      -0.111       0.588\n",
      "% Adults with Diabetes                        0.2591      0.182      1.423      0.155      -0.098       0.616\n",
      "% Frequent Mental Distress                    0.0339      0.028      1.210      0.227      -0.021       0.089\n",
      "% Frequent Physical Distress                  0.0717      0.072      0.989      0.323      -0.070       0.214\n",
      "Life Expectancy                               0.4825      0.096      5.014      0.000       0.294       0.671\n",
      "Cig Tax Rate                                 -0.0350      0.043     -0.822      0.411      -0.118       0.048\n",
      "==============================================================================\n",
      "Omnibus:                       12.096   Durbin-Watson:                   0.670\n",
      "Prob(Omnibus):                  0.002   Jarque-Bera (JB):               18.442\n",
      "Skew:                           0.015   Prob(JB):                     9.89e-05\n",
      "Kurtosis:                       3.606   Cond. No.                         118.\n",
      "==============================================================================\n",
      "\n",
      "Warnings:\n",
      "[1] Standard Errors assume that the covariance matrix of the errors is correctly specified.\n",
      "                                 OLS Regression Results                                \n",
      "=======================================================================================\n",
      "Dep. Variable:                      y   R-squared (uncentered):                   0.484\n",
      "Model:                            OLS   Adj. R-squared (uncentered):              0.463\n",
      "Method:                 Least Squares   F-statistic:                              22.49\n",
      "Date:                Tue, 31 May 2022   Prob (F-statistic):                   5.49e-132\n",
      "Time:                        04:40:15   Log-Likelihood:                         -1302.0\n",
      "No. Observations:                1197   AIC:                                      2700.\n",
      "Df Residuals:                    1149   BIC:                                      2944.\n",
      "Df Model:                          48                                                  \n",
      "Covariance Type:            nonrobust                                                  \n",
      "=============================================================================================================\n",
      "                                                coef    std err          t      P>|t|      [0.025      0.975]\n",
      "-------------------------------------------------------------------------------------------------------------\n",
      "% Adults with Obesity                        -0.0649      0.061     -1.063      0.288      -0.185       0.055\n",
      "Food Environment Index                        0.0635      0.034      1.872      0.061      -0.003       0.130\n",
      "% Physically Inactive                         0.4942      0.241      2.051      0.041       0.021       0.967\n",
      "% With Access to Exercise Opportunities      -0.0047      0.035     -0.135      0.893      -0.073       0.064\n",
      "% Excessive Drinking                         -0.0228      0.030     -0.772      0.440      -0.081       0.035\n",
      "% Driving Deaths with Alcohol Involvement     0.1201      0.036      3.355      0.001       0.050       0.190\n",
      "Chlamydia Rate                               -0.0426      0.024     -1.813      0.070      -0.089       0.003\n",
      "Teen Birth Rate                               0.0402      0.043      0.936      0.350      -0.044       0.124\n",
      "Primary Care Physicians Rate                 -0.0928      0.045     -2.085      0.037      -0.180      -0.005\n",
      "Dentist Rate                                 -0.0309      0.030     -1.037      0.300      -0.089       0.028\n",
      "Mental Health Provider Rate                  -0.0074      0.031     -0.240      0.811      -0.068       0.053\n",
      "% With Annual Mammogram                       0.1881      0.032      5.844      0.000       0.125       0.251\n",
      "% Vaccinated                                  0.0308      0.030      1.030      0.303      -0.028       0.089\n",
      "% Fair or Poor Health                         0.0151      0.030      0.506      0.613      -0.043       0.074\n",
      "% Low birthweight                            -0.8662      0.091     -9.472      0.000      -1.046      -0.687\n",
      "% Some College                               -0.0331      0.031     -1.085      0.278      -0.093       0.027\n",
      "% Unemployed                                 -0.1467      0.038     -3.813      0.000      -0.222      -0.071\n",
      "% Children in Poverty                         0.3862      0.031     12.484      0.000       0.326       0.447\n",
      "Income Ratio                                  0.2266      0.053      4.297      0.000       0.123       0.330\n",
      "Violent Crime Rate                            0.0444      0.032      1.406      0.160      -0.018       0.106\n",
      "Social Association Rate                       0.0031      0.029      0.105      0.916      -0.055       0.061\n",
      "Average Daily PM2.5                           0.0904      0.029      3.069      0.002       0.033       0.148\n",
      "Injury Death Rate                            -0.0087      0.029     -0.302      0.763      -0.066       0.048\n",
      "Presence of Water Violation                   0.0451      0.035      1.271      0.204      -0.025       0.115\n",
      "% Severe Housing Problems                     0.0336      0.023      1.472      0.141      -0.011       0.078\n",
      "% Drive Alone to Work                         0.1513      0.039      3.864      0.000       0.074       0.228\n",
      "% Long Commute - Drives Alone                 0.0263      0.033      0.805      0.421      -0.038       0.090\n",
      "% Less Than 18 Years of Age                   0.0267      0.037      0.713      0.476      -0.047       0.100\n",
      "% 65 and Over                                -0.0031      0.045     -0.069      0.945      -0.091       0.085\n",
      "% Black                                      -0.1451      0.053     -2.723      0.007      -0.250      -0.041\n",
      "% Asian                                      -0.8936      0.240     -3.731      0.000      -1.364      -0.424\n",
      "% Native Hawaiian/Other Pacific Islander     -0.1778      0.097     -1.827      0.068      -0.369       0.013\n",
      "% American Indian & Alaska Native            -0.0412      0.028     -1.471      0.141      -0.096       0.014\n",
      "% Hispanic                                   -0.5315      0.169     -3.136      0.002      -0.864      -0.199\n",
      "% Non-Hispanic White                         -0.4736      0.189     -2.506      0.012      -0.844      -0.103\n",
      "% Not Proficient in English                  -1.1228      0.397     -2.826      0.005      -1.902      -0.343\n",
      "% Homeowners                                  0.0856      0.040      2.132      0.033       0.007       0.164\n",
      "% Broadband Access                            0.0443      0.047      0.933      0.351      -0.049       0.137\n",
      "% Enrolled in Free or Reduced Lunch           0.0171      0.039      0.439      0.661      -0.059       0.093\n",
      "Median Household Income                       0.1415      0.045      3.134      0.002       0.053       0.230\n",
      "% Insufficient Sleep                          0.0771      0.060      1.274      0.203      -0.042       0.196\n",
      "% Limited Access to Healthy Foods             0.0791      0.043      1.835      0.067      -0.005       0.164\n",
      "% Food Insecure                               0.2542      0.124      2.051      0.040       0.011       0.497\n",
      "% Adults with Diabetes                       -0.0047      0.169     -0.028      0.978      -0.336       0.326\n",
      "% Frequent Mental Distress                    0.0453      0.032      1.423      0.155      -0.017       0.108\n",
      "% Frequent Physical Distress                  0.2445      0.077      3.187      0.001       0.094       0.395\n",
      "Life Expectancy                               0.4579      0.083      5.513      0.000       0.295       0.621\n",
      "Cig Tax Rate                                  0.0153      0.042      0.363      0.717      -0.068       0.098\n",
      "==============================================================================\n",
      "Omnibus:                       14.028   Durbin-Watson:                   0.618\n",
      "Prob(Omnibus):                  0.001   Jarque-Bera (JB):               14.771\n",
      "Skew:                          -0.226   Prob(JB):                     0.000620\n",
      "Kurtosis:                       3.303   Cond. No.                         87.2\n",
      "==============================================================================\n",
      "\n",
      "Warnings:\n",
      "[1] Standard Errors assume that the covariance matrix of the errors is correctly specified.\n",
      "                                 OLS Regression Results                                \n",
      "=======================================================================================\n",
      "Dep. Variable:                      y   R-squared (uncentered):                   0.536\n",
      "Model:                            OLS   Adj. R-squared (uncentered):              0.516\n",
      "Method:                 Least Squares   F-statistic:                              27.90\n",
      "Date:                Tue, 31 May 2022   Prob (F-statistic):                   5.71e-159\n",
      "Time:                        04:40:15   Log-Likelihood:                         -1251.8\n",
      "No. Observations:                1209   AIC:                                      2600.\n",
      "Df Residuals:                    1161   BIC:                                      2844.\n",
      "Df Model:                          48                                                  \n",
      "Covariance Type:            nonrobust                                                  \n",
      "=============================================================================================================\n",
      "                                                coef    std err          t      P>|t|      [0.025      0.975]\n",
      "-------------------------------------------------------------------------------------------------------------\n",
      "% Adults with Obesity                         0.0266      0.071      0.376      0.707      -0.112       0.165\n",
      "% Physically Inactive                         0.0052      0.028      0.189      0.850      -0.049       0.059\n",
      "% With Access to Exercise Opportunities      -0.0297      0.028     -1.065      0.287      -0.084       0.025\n",
      "% Excessive Drinking                          0.0020      0.027      0.075      0.941      -0.050       0.054\n",
      "% Driving Deaths with Alcohol Involvement     0.1335      0.036      3.689      0.000       0.063       0.205\n",
      "Chlamydia Rate                                0.0549      0.021      2.587      0.010       0.013       0.097\n",
      "Teen Birth Rate                               0.0201      0.042      0.478      0.633      -0.062       0.103\n",
      "Primary Care Physicians Rate                 -0.0165      0.038     -0.439      0.661      -0.090       0.057\n",
      "Dentist Rate                                 -0.0858      0.028     -3.046      0.002      -0.141      -0.031\n",
      "Mental Health Provider Rate                   0.1238      0.029      4.296      0.000       0.067       0.180\n",
      "% With Annual Mammogram                       0.1297      0.025      5.227      0.000       0.081       0.178\n",
      "% Vaccinated                                 -0.0552      0.030     -1.842      0.066      -0.114       0.004\n",
      "% Fair or Poor Health                         0.0179      0.027      0.662      0.508      -0.035       0.071\n",
      "% Low birthweight                            -0.6134      0.106     -5.800      0.000      -0.821      -0.406\n",
      "% Completed High School                      -0.1818      0.039     -4.705      0.000      -0.258      -0.106\n",
      "% Some College                                0.1693      0.042      4.052      0.000       0.087       0.251\n",
      "% Unemployed                                 -0.1367      0.033     -4.083      0.000      -0.202      -0.071\n",
      "% Children in Poverty                         0.2401      0.028      8.705      0.000       0.186       0.294\n",
      "Income Ratio                                  0.0543      0.050      1.085      0.278      -0.044       0.152\n",
      "Violent Crime Rate                            0.0303      0.030      1.005      0.315      -0.029       0.089\n",
      "Social Association Rate                       0.0039      0.027      0.143      0.886      -0.050       0.058\n",
      "Average Daily PM2.5                           0.1577      0.025      6.253      0.000       0.108       0.207\n",
      "Injury Death Rate                            -0.0873      0.027     -3.239      0.001      -0.140      -0.034\n",
      "Presence of Water Violation                   0.0169      0.033      0.510      0.610      -0.048       0.082\n",
      "% Severe Housing Problems                     0.0963      0.022      4.463      0.000       0.054       0.139\n",
      "% Drive Alone to Work                         0.0768      0.035      2.173      0.030       0.007       0.146\n",
      "% Long Commute - Drives Alone                -0.1346      0.029     -4.634      0.000      -0.192      -0.078\n",
      "% Less Than 18 Years of Age                  -0.1088      0.030     -3.612      0.000      -0.168      -0.050\n",
      "% 65 and Over                                -0.1039      0.038     -2.727      0.006      -0.179      -0.029\n",
      "% Black                                      -0.1611      0.041     -3.960      0.000      -0.241      -0.081\n",
      "% Asian                                      -1.8020      0.377     -4.780      0.000      -2.542      -1.062\n",
      "% Native Hawaiian/Other Pacific Islander     -0.2318      0.071     -3.248      0.001      -0.372      -0.092\n",
      "% American Indian & Alaska Native            -0.0232      0.023     -1.015      0.310      -0.068       0.022\n",
      "% Hispanic                                   -0.7853      0.164     -4.803      0.000      -1.106      -0.465\n",
      "% Non-Hispanic White                         -1.3486      0.386     -3.490      0.001      -2.107      -0.591\n",
      "% Not Proficient in English                  -2.3997      0.487     -4.931      0.000      -3.355      -1.445\n",
      "% Homeowners                                  0.0361      0.049      0.734      0.463      -0.060       0.133\n",
      "% Broadband Access                            0.1562      0.040      3.904      0.000       0.078       0.235\n",
      "% Enrolled in Free or Reduced Lunch           0.0110      0.035      0.317      0.752      -0.057       0.079\n",
      "Median Household Income                      -0.0278      0.035     -0.795      0.427      -0.097       0.041\n",
      "% Insufficient Sleep                          0.1637      0.051      3.218      0.001       0.064       0.263\n",
      "% Limited Access to Healthy Foods             0.2448      0.037      6.550      0.000       0.171       0.318\n",
      "% Food Insecure                              -0.0306      0.024     -1.255      0.210      -0.078       0.017\n",
      "% Adults with Diabetes                        0.0822      0.050      1.653      0.099      -0.015       0.180\n",
      "% Frequent Mental Distress                    0.0431      0.027      1.584      0.114      -0.010       0.096\n",
      "% Frequent Physical Distress                  0.0442      0.076      0.581      0.562      -0.105       0.193\n",
      "Life Expectancy                               0.4782      0.093      5.140      0.000       0.296       0.661\n",
      "Cig Tax Rate                                  0.0061      0.045      0.135      0.893      -0.083       0.095\n",
      "==============================================================================\n",
      "Omnibus:                       18.367   Durbin-Watson:                   0.740\n",
      "Prob(Omnibus):                  0.000   Jarque-Bera (JB):               25.689\n",
      "Skew:                           0.163   Prob(JB):                     2.64e-06\n",
      "Kurtosis:                       3.635   Cond. No.                         128.\n",
      "==============================================================================\n",
      "\n",
      "Warnings:\n",
      "[1] Standard Errors assume that the covariance matrix of the errors is correctly specified.\n",
      "                                 OLS Regression Results                                \n",
      "=======================================================================================\n",
      "Dep. Variable:                      y   R-squared (uncentered):                   0.361\n",
      "Model:                            OLS   Adj. R-squared (uncentered):              0.336\n",
      "Method:                 Least Squares   F-statistic:                              14.38\n",
      "Date:                Tue, 31 May 2022   Prob (F-statistic):                    4.59e-86\n",
      "Time:                        04:40:16   Log-Likelihood:                         -1485.3\n",
      "No. Observations:                1243   AIC:                                      3065.\n",
      "Df Residuals:                    1196   BIC:                                      3305.\n",
      "Df Model:                          47                                                  \n",
      "Covariance Type:            nonrobust                                                  \n",
      "=============================================================================================================\n",
      "                                                coef    std err          t      P>|t|      [0.025      0.975]\n",
      "-------------------------------------------------------------------------------------------------------------\n",
      "% Adults with Obesity                        -0.0172      0.056     -0.306      0.760      -0.127       0.093\n",
      "Food Environment Index                        0.0005      0.032      0.015      0.988      -0.062       0.063\n",
      "% Physically Inactive                         0.1790      0.269      0.665      0.506      -0.350       0.708\n",
      "% With Access to Exercise Opportunities      -0.0111      0.030     -0.366      0.714      -0.071       0.049\n",
      "% Excessive Drinking                          0.0060      0.032      0.187      0.852      -0.057       0.069\n",
      "% Driving Deaths with Alcohol Involvement     0.0117      0.036      0.330      0.741      -0.058       0.082\n",
      "Chlamydia Rate                                0.0338      0.024      1.387      0.166      -0.014       0.082\n",
      "Teen Birth Rate                              -0.0197      0.046     -0.429      0.668      -0.110       0.071\n",
      "Primary Care Physicians Rate                  0.0580      0.042      1.394      0.164      -0.024       0.140\n",
      "Dentist Rate                                 -0.0609      0.033     -1.855      0.064      -0.125       0.004\n",
      "Mental Health Provider Rate                   0.0268      0.030      0.889      0.374      -0.032       0.086\n",
      "% With Annual Mammogram                       0.2230      0.029      7.608      0.000       0.165       0.280\n",
      "% Vaccinated                                  0.0380      0.030      1.273      0.203      -0.021       0.097\n",
      "% Fair or Poor Health                         0.0778      0.030      2.564      0.010       0.018       0.137\n",
      "% Low birthweight                            -0.8099      0.098     -8.293      0.000      -1.001      -0.618\n",
      "% Completed High School                      -0.2525      0.030     -8.301      0.000      -0.312      -0.193\n",
      "% Some College                                0.0189      0.049      0.387      0.699      -0.077       0.115\n",
      "% Unemployed                                 -0.0927      0.049     -1.883      0.060      -0.189       0.004\n",
      "% Children in Poverty                         0.2942      0.033      8.965      0.000       0.230       0.359\n",
      "Income Ratio                                  0.0787      0.048      1.640      0.101      -0.015       0.173\n",
      "Violent Crime Rate                            0.0774      0.031      2.489      0.013       0.016       0.138\n",
      "Average Daily PM2.5                           0.0356      0.031      1.132      0.258      -0.026       0.097\n",
      "Injury Death Rate                            -0.0852      0.026     -3.229      0.001      -0.137      -0.033\n",
      "Presence of Water Violation                   0.0501      0.036      1.372      0.170      -0.022       0.122\n",
      "% Severe Housing Problems                     0.0279      0.025      1.111      0.267      -0.021       0.077\n",
      "% Drive Alone to Work                         0.1339      0.032      4.180      0.000       0.071       0.197\n",
      "% Long Commute - Drives Alone                -0.0675      0.031     -2.161      0.031      -0.129      -0.006\n",
      "% Less Than 18 Years of Age                   0.0467      0.031      1.496      0.135      -0.015       0.108\n",
      "% 65 and Over                                -0.1777      0.039     -4.526      0.000      -0.255      -0.101\n",
      "% Black                                      -0.1989      0.047     -4.272      0.000      -0.290      -0.108\n",
      "% Asian                                      -1.0157      0.227     -4.474      0.000      -1.461      -0.570\n",
      "% Native Hawaiian/Other Pacific Islander     -0.4610      0.076     -6.083      0.000      -0.610      -0.312\n",
      "% American Indian & Alaska Native            -0.0655      0.027     -2.426      0.015      -0.118      -0.013\n",
      "% Hispanic                                   -1.2652      0.233     -5.421      0.000      -1.723      -0.807\n",
      "% Non-Hispanic White                         -0.8151      0.192     -4.236      0.000      -1.193      -0.438\n",
      "% Not Proficient in English                  -2.1051      0.377     -5.585      0.000      -2.845      -1.366\n",
      "% Homeowners                                 -0.0560      0.046     -1.211      0.226      -0.147       0.035\n",
      "% Enrolled in Free or Reduced Lunch           0.2258      0.044      5.109      0.000       0.139       0.313\n",
      "Median Household Income                       0.0086      0.040      0.216      0.829      -0.070       0.087\n",
      "% Insufficient Sleep                         -0.0905      0.052     -1.752      0.080      -0.192       0.011\n",
      "% Limited Access to Healthy Foods            -0.0464      0.041     -1.141      0.254      -0.126       0.033\n",
      "% Food Insecure                               0.0903      0.169      0.534      0.594      -0.241       0.422\n",
      "% Adults with Diabetes                       -0.0398      0.166     -0.240      0.811      -0.366       0.286\n",
      "% Frequent Mental Distress                    0.0733      0.032      2.273      0.023       0.010       0.137\n",
      "% Frequent Physical Distress                  0.0482      0.074      0.655      0.513      -0.096       0.193\n",
      "Life Expectancy                               0.4128      0.096      4.285      0.000       0.224       0.602\n",
      "Cig Tax Rate                                 -0.0990      0.041     -2.429      0.015      -0.179      -0.019\n",
      "==============================================================================\n",
      "Omnibus:                        1.498   Durbin-Watson:                   0.838\n",
      "Prob(Omnibus):                  0.473   Jarque-Bera (JB):                1.376\n",
      "Skew:                           0.066   Prob(JB):                        0.502\n",
      "Kurtosis:                       3.096   Cond. No.                         80.2\n",
      "==============================================================================\n",
      "\n",
      "Warnings:\n",
      "[1] Standard Errors assume that the covariance matrix of the errors is correctly specified.\n"
     ]
    }
   ],
   "source": [
    "labels = pd.read_csv(parent_path + \"\\\\CorrMatrix.csv\").columns.tolist()[2:]\n",
    "# print(len(labels))\n",
    "\n",
    "for index in range(len(params_lst)):\n",
    "    beta, relevant, results = double_lasso(lambdaIV[index], lambdaY[index], params_lst[index])\n",
    "    print(results.summary())\n",
    "\n",
    "    # print(f\"Betas for dataframe {index + 1}:\")\n",
    "    # for key in relevant.keys():\n",
    "    #     print(f\"{labels[key]}: {relevant[key]}\")"
   ]
  },
  {
   "cell_type": "code",
   "execution_count": 456,
   "metadata": {},
   "outputs": [
    {
     "name": "stderr",
     "output_type": "stream",
     "text": [
      "c:\\Users\\spont\\anaconda3\\lib\\site-packages\\ipykernel_launcher.py:20: RuntimeWarning: covariance is not positive-semidefinite.\n",
      "c:\\Users\\spont\\anaconda3\\lib\\site-packages\\ipykernel_launcher.py:20: RuntimeWarning: covariance is not positive-semidefinite.\n",
      "c:\\Users\\spont\\anaconda3\\lib\\site-packages\\ipykernel_launcher.py:20: RuntimeWarning: covariance is not positive-semidefinite.\n",
      "c:\\Users\\spont\\anaconda3\\lib\\site-packages\\ipykernel_launcher.py:20: RuntimeWarning: covariance is not positive-semidefinite.\n",
      "c:\\Users\\spont\\anaconda3\\lib\\site-packages\\ipykernel_launcher.py:20: RuntimeWarning: covariance is not positive-semidefinite.\n",
      "c:\\Users\\spont\\anaconda3\\lib\\site-packages\\ipykernel_launcher.py:20: RuntimeWarning: covariance is not positive-semidefinite.\n",
      "c:\\Users\\spont\\anaconda3\\lib\\site-packages\\ipykernel_launcher.py:20: RuntimeWarning: covariance is not positive-semidefinite.\n",
      "c:\\Users\\spont\\anaconda3\\lib\\site-packages\\ipykernel_launcher.py:20: RuntimeWarning: covariance is not positive-semidefinite.\n",
      "c:\\Users\\spont\\anaconda3\\lib\\site-packages\\ipykernel_launcher.py:20: RuntimeWarning: covariance is not positive-semidefinite.\n",
      "c:\\Users\\spont\\anaconda3\\lib\\site-packages\\ipykernel_launcher.py:20: RuntimeWarning: covariance is not positive-semidefinite.\n",
      "c:\\Users\\spont\\anaconda3\\lib\\site-packages\\ipykernel_launcher.py:20: RuntimeWarning: covariance is not positive-semidefinite.\n",
      "c:\\Users\\spont\\anaconda3\\lib\\site-packages\\ipykernel_launcher.py:20: RuntimeWarning: covariance is not positive-semidefinite.\n",
      "c:\\Users\\spont\\anaconda3\\lib\\site-packages\\ipykernel_launcher.py:20: RuntimeWarning: covariance is not positive-semidefinite.\n",
      "c:\\Users\\spont\\anaconda3\\lib\\site-packages\\ipykernel_launcher.py:20: RuntimeWarning: covariance is not positive-semidefinite.\n",
      "c:\\Users\\spont\\anaconda3\\lib\\site-packages\\ipykernel_launcher.py:20: RuntimeWarning: covariance is not positive-semidefinite.\n",
      "c:\\Users\\spont\\anaconda3\\lib\\site-packages\\ipykernel_launcher.py:20: RuntimeWarning: covariance is not positive-semidefinite.\n",
      "c:\\Users\\spont\\anaconda3\\lib\\site-packages\\ipykernel_launcher.py:20: RuntimeWarning: covariance is not positive-semidefinite.\n",
      "c:\\Users\\spont\\anaconda3\\lib\\site-packages\\ipykernel_launcher.py:20: RuntimeWarning: covariance is not positive-semidefinite.\n",
      "c:\\Users\\spont\\anaconda3\\lib\\site-packages\\ipykernel_launcher.py:20: RuntimeWarning: covariance is not positive-semidefinite.\n",
      "c:\\Users\\spont\\anaconda3\\lib\\site-packages\\ipykernel_launcher.py:20: RuntimeWarning: covariance is not positive-semidefinite.\n",
      "c:\\Users\\spont\\anaconda3\\lib\\site-packages\\ipykernel_launcher.py:20: RuntimeWarning: covariance is not positive-semidefinite.\n",
      "c:\\Users\\spont\\anaconda3\\lib\\site-packages\\ipykernel_launcher.py:20: RuntimeWarning: covariance is not positive-semidefinite.\n",
      "c:\\Users\\spont\\anaconda3\\lib\\site-packages\\ipykernel_launcher.py:20: RuntimeWarning: covariance is not positive-semidefinite.\n",
      "c:\\Users\\spont\\anaconda3\\lib\\site-packages\\ipykernel_launcher.py:20: RuntimeWarning: covariance is not positive-semidefinite.\n",
      "c:\\Users\\spont\\anaconda3\\lib\\site-packages\\ipykernel_launcher.py:20: RuntimeWarning: covariance is not positive-semidefinite.\n",
      "c:\\Users\\spont\\anaconda3\\lib\\site-packages\\ipykernel_launcher.py:20: RuntimeWarning: covariance is not positive-semidefinite.\n",
      "c:\\Users\\spont\\anaconda3\\lib\\site-packages\\ipykernel_launcher.py:20: RuntimeWarning: covariance is not positive-semidefinite.\n",
      "c:\\Users\\spont\\anaconda3\\lib\\site-packages\\ipykernel_launcher.py:20: RuntimeWarning: covariance is not positive-semidefinite.\n",
      "c:\\Users\\spont\\anaconda3\\lib\\site-packages\\ipykernel_launcher.py:20: RuntimeWarning: covariance is not positive-semidefinite.\n",
      "c:\\Users\\spont\\anaconda3\\lib\\site-packages\\ipykernel_launcher.py:20: RuntimeWarning: covariance is not positive-semidefinite.\n",
      "c:\\Users\\spont\\anaconda3\\lib\\site-packages\\ipykernel_launcher.py:20: RuntimeWarning: covariance is not positive-semidefinite.\n",
      "c:\\Users\\spont\\anaconda3\\lib\\site-packages\\ipykernel_launcher.py:20: RuntimeWarning: covariance is not positive-semidefinite.\n",
      "c:\\Users\\spont\\anaconda3\\lib\\site-packages\\ipykernel_launcher.py:20: RuntimeWarning: covariance is not positive-semidefinite.\n",
      "c:\\Users\\spont\\anaconda3\\lib\\site-packages\\ipykernel_launcher.py:20: RuntimeWarning: covariance is not positive-semidefinite.\n",
      "c:\\Users\\spont\\anaconda3\\lib\\site-packages\\ipykernel_launcher.py:20: RuntimeWarning: covariance is not positive-semidefinite.\n",
      "c:\\Users\\spont\\anaconda3\\lib\\site-packages\\ipykernel_launcher.py:20: RuntimeWarning: covariance is not positive-semidefinite.\n",
      "c:\\Users\\spont\\anaconda3\\lib\\site-packages\\ipykernel_launcher.py:20: RuntimeWarning: covariance is not positive-semidefinite.\n",
      "c:\\Users\\spont\\anaconda3\\lib\\site-packages\\ipykernel_launcher.py:20: RuntimeWarning: covariance is not positive-semidefinite.\n",
      "c:\\Users\\spont\\anaconda3\\lib\\site-packages\\ipykernel_launcher.py:20: RuntimeWarning: covariance is not positive-semidefinite.\n",
      "c:\\Users\\spont\\anaconda3\\lib\\site-packages\\ipykernel_launcher.py:20: RuntimeWarning: covariance is not positive-semidefinite.\n",
      "c:\\Users\\spont\\anaconda3\\lib\\site-packages\\ipykernel_launcher.py:20: RuntimeWarning: covariance is not positive-semidefinite.\n",
      "c:\\Users\\spont\\anaconda3\\lib\\site-packages\\ipykernel_launcher.py:20: RuntimeWarning: covariance is not positive-semidefinite.\n",
      "c:\\Users\\spont\\anaconda3\\lib\\site-packages\\ipykernel_launcher.py:20: RuntimeWarning: covariance is not positive-semidefinite.\n",
      "c:\\Users\\spont\\anaconda3\\lib\\site-packages\\ipykernel_launcher.py:20: RuntimeWarning: covariance is not positive-semidefinite.\n",
      "c:\\Users\\spont\\anaconda3\\lib\\site-packages\\ipykernel_launcher.py:20: RuntimeWarning: covariance is not positive-semidefinite.\n",
      "c:\\Users\\spont\\anaconda3\\lib\\site-packages\\ipykernel_launcher.py:20: RuntimeWarning: covariance is not positive-semidefinite.\n",
      "c:\\Users\\spont\\anaconda3\\lib\\site-packages\\ipykernel_launcher.py:20: RuntimeWarning: covariance is not positive-semidefinite.\n",
      "c:\\Users\\spont\\anaconda3\\lib\\site-packages\\ipykernel_launcher.py:20: RuntimeWarning: covariance is not positive-semidefinite.\n",
      "c:\\Users\\spont\\anaconda3\\lib\\site-packages\\ipykernel_launcher.py:20: RuntimeWarning: covariance is not positive-semidefinite.\n",
      "c:\\Users\\spont\\anaconda3\\lib\\site-packages\\ipykernel_launcher.py:20: RuntimeWarning: covariance is not positive-semidefinite.\n",
      "c:\\Users\\spont\\anaconda3\\lib\\site-packages\\ipykernel_launcher.py:20: RuntimeWarning: covariance is not positive-semidefinite.\n",
      "c:\\Users\\spont\\anaconda3\\lib\\site-packages\\ipykernel_launcher.py:20: RuntimeWarning: covariance is not positive-semidefinite.\n",
      "c:\\Users\\spont\\anaconda3\\lib\\site-packages\\ipykernel_launcher.py:20: RuntimeWarning: covariance is not positive-semidefinite.\n",
      "c:\\Users\\spont\\anaconda3\\lib\\site-packages\\ipykernel_launcher.py:20: RuntimeWarning: covariance is not positive-semidefinite.\n",
      "c:\\Users\\spont\\anaconda3\\lib\\site-packages\\ipykernel_launcher.py:20: RuntimeWarning: covariance is not positive-semidefinite.\n",
      "c:\\Users\\spont\\anaconda3\\lib\\site-packages\\ipykernel_launcher.py:20: RuntimeWarning: covariance is not positive-semidefinite.\n",
      "c:\\Users\\spont\\anaconda3\\lib\\site-packages\\ipykernel_launcher.py:20: RuntimeWarning: covariance is not positive-semidefinite.\n",
      "c:\\Users\\spont\\anaconda3\\lib\\site-packages\\ipykernel_launcher.py:20: RuntimeWarning: covariance is not positive-semidefinite.\n",
      "c:\\Users\\spont\\anaconda3\\lib\\site-packages\\ipykernel_launcher.py:20: RuntimeWarning: covariance is not positive-semidefinite.\n",
      "c:\\Users\\spont\\anaconda3\\lib\\site-packages\\ipykernel_launcher.py:20: RuntimeWarning: covariance is not positive-semidefinite.\n",
      "c:\\Users\\spont\\anaconda3\\lib\\site-packages\\ipykernel_launcher.py:20: RuntimeWarning: covariance is not positive-semidefinite.\n",
      "c:\\Users\\spont\\anaconda3\\lib\\site-packages\\ipykernel_launcher.py:20: RuntimeWarning: covariance is not positive-semidefinite.\n",
      "c:\\Users\\spont\\anaconda3\\lib\\site-packages\\ipykernel_launcher.py:20: RuntimeWarning: covariance is not positive-semidefinite.\n",
      "c:\\Users\\spont\\anaconda3\\lib\\site-packages\\ipykernel_launcher.py:20: RuntimeWarning: covariance is not positive-semidefinite.\n",
      "c:\\Users\\spont\\anaconda3\\lib\\site-packages\\ipykernel_launcher.py:20: RuntimeWarning: covariance is not positive-semidefinite.\n",
      "c:\\Users\\spont\\anaconda3\\lib\\site-packages\\ipykernel_launcher.py:20: RuntimeWarning: covariance is not positive-semidefinite.\n",
      "c:\\Users\\spont\\anaconda3\\lib\\site-packages\\ipykernel_launcher.py:20: RuntimeWarning: covariance is not positive-semidefinite.\n",
      "c:\\Users\\spont\\anaconda3\\lib\\site-packages\\ipykernel_launcher.py:20: RuntimeWarning: covariance is not positive-semidefinite.\n",
      "c:\\Users\\spont\\anaconda3\\lib\\site-packages\\ipykernel_launcher.py:20: RuntimeWarning: covariance is not positive-semidefinite.\n",
      "c:\\Users\\spont\\anaconda3\\lib\\site-packages\\ipykernel_launcher.py:20: RuntimeWarning: covariance is not positive-semidefinite.\n",
      "c:\\Users\\spont\\anaconda3\\lib\\site-packages\\ipykernel_launcher.py:20: RuntimeWarning: covariance is not positive-semidefinite.\n",
      "c:\\Users\\spont\\anaconda3\\lib\\site-packages\\ipykernel_launcher.py:20: RuntimeWarning: covariance is not positive-semidefinite.\n",
      "c:\\Users\\spont\\anaconda3\\lib\\site-packages\\ipykernel_launcher.py:20: RuntimeWarning: covariance is not positive-semidefinite.\n",
      "c:\\Users\\spont\\anaconda3\\lib\\site-packages\\ipykernel_launcher.py:20: RuntimeWarning: covariance is not positive-semidefinite.\n",
      "c:\\Users\\spont\\anaconda3\\lib\\site-packages\\ipykernel_launcher.py:20: RuntimeWarning: covariance is not positive-semidefinite.\n",
      "c:\\Users\\spont\\anaconda3\\lib\\site-packages\\ipykernel_launcher.py:20: RuntimeWarning: covariance is not positive-semidefinite.\n",
      "c:\\Users\\spont\\anaconda3\\lib\\site-packages\\ipykernel_launcher.py:20: RuntimeWarning: covariance is not positive-semidefinite.\n",
      "c:\\Users\\spont\\anaconda3\\lib\\site-packages\\ipykernel_launcher.py:20: RuntimeWarning: covariance is not positive-semidefinite.\n",
      "c:\\Users\\spont\\anaconda3\\lib\\site-packages\\ipykernel_launcher.py:20: RuntimeWarning: covariance is not positive-semidefinite.\n",
      "c:\\Users\\spont\\anaconda3\\lib\\site-packages\\ipykernel_launcher.py:20: RuntimeWarning: covariance is not positive-semidefinite.\n",
      "c:\\Users\\spont\\anaconda3\\lib\\site-packages\\ipykernel_launcher.py:20: RuntimeWarning: covariance is not positive-semidefinite.\n",
      "c:\\Users\\spont\\anaconda3\\lib\\site-packages\\ipykernel_launcher.py:20: RuntimeWarning: covariance is not positive-semidefinite.\n",
      "c:\\Users\\spont\\anaconda3\\lib\\site-packages\\ipykernel_launcher.py:20: RuntimeWarning: covariance is not positive-semidefinite.\n",
      "c:\\Users\\spont\\anaconda3\\lib\\site-packages\\ipykernel_launcher.py:20: RuntimeWarning: covariance is not positive-semidefinite.\n",
      "c:\\Users\\spont\\anaconda3\\lib\\site-packages\\ipykernel_launcher.py:20: RuntimeWarning: covariance is not positive-semidefinite.\n",
      "c:\\Users\\spont\\anaconda3\\lib\\site-packages\\ipykernel_launcher.py:20: RuntimeWarning: covariance is not positive-semidefinite.\n",
      "c:\\Users\\spont\\anaconda3\\lib\\site-packages\\ipykernel_launcher.py:20: RuntimeWarning: covariance is not positive-semidefinite.\n",
      "c:\\Users\\spont\\anaconda3\\lib\\site-packages\\ipykernel_launcher.py:20: RuntimeWarning: covariance is not positive-semidefinite.\n",
      "c:\\Users\\spont\\anaconda3\\lib\\site-packages\\ipykernel_launcher.py:20: RuntimeWarning: covariance is not positive-semidefinite.\n",
      "c:\\Users\\spont\\anaconda3\\lib\\site-packages\\ipykernel_launcher.py:20: RuntimeWarning: covariance is not positive-semidefinite.\n",
      "c:\\Users\\spont\\anaconda3\\lib\\site-packages\\ipykernel_launcher.py:20: RuntimeWarning: covariance is not positive-semidefinite.\n",
      "c:\\Users\\spont\\anaconda3\\lib\\site-packages\\ipykernel_launcher.py:20: RuntimeWarning: covariance is not positive-semidefinite.\n",
      "c:\\Users\\spont\\anaconda3\\lib\\site-packages\\ipykernel_launcher.py:20: RuntimeWarning: covariance is not positive-semidefinite.\n",
      "c:\\Users\\spont\\anaconda3\\lib\\site-packages\\ipykernel_launcher.py:20: RuntimeWarning: covariance is not positive-semidefinite.\n",
      "c:\\Users\\spont\\anaconda3\\lib\\site-packages\\ipykernel_launcher.py:20: RuntimeWarning: covariance is not positive-semidefinite.\n",
      "c:\\Users\\spont\\anaconda3\\lib\\site-packages\\ipykernel_launcher.py:20: RuntimeWarning: covariance is not positive-semidefinite.\n",
      "c:\\Users\\spont\\anaconda3\\lib\\site-packages\\ipykernel_launcher.py:20: RuntimeWarning: covariance is not positive-semidefinite.\n",
      "c:\\Users\\spont\\anaconda3\\lib\\site-packages\\ipykernel_launcher.py:20: RuntimeWarning: covariance is not positive-semidefinite.\n",
      "c:\\Users\\spont\\anaconda3\\lib\\site-packages\\ipykernel_launcher.py:20: RuntimeWarning: covariance is not positive-semidefinite.\n",
      "c:\\Users\\spont\\anaconda3\\lib\\site-packages\\ipykernel_launcher.py:20: RuntimeWarning: covariance is not positive-semidefinite.\n",
      "c:\\Users\\spont\\anaconda3\\lib\\site-packages\\ipykernel_launcher.py:20: RuntimeWarning: covariance is not positive-semidefinite.\n"
     ]
    },
    {
     "name": "stdout",
     "output_type": "stream",
     "text": [
      "Average Error across all samples (OLS): 0.6200991725949642\n",
      "Average Error across all samples (Lasso): 0.3665562318298825\n"
     ]
    }
   ],
   "source": [
    "# Testing accuracy of different types of models on generated data\n",
    "\n",
    "def normmeans(frame):\n",
    "\n",
    "    normalfits = []\n",
    "    for column in frame.columns.tolist()[1:]:\n",
    "        data = frame[column].to_numpy()\n",
    "\n",
    "        mu, std = norm.fit(data)\n",
    "        normalfits.append(mu)\n",
    "\n",
    "    return normalfits\n",
    "\n",
    "def DGP():\n",
    "    frame = pd.read_csv(parent_path + \"\\\\FinalDF.csv\")\n",
    "    frame.drop(columns=[\"State\", \"County\", \"Population\"], inplace=True)\n",
    "    means = np.array(normmeans(frame))\n",
    "    cov = pd.read_csv(parent_path + \"\\\\CovMatrix.csv\").to_numpy()[:, 1:]\n",
    "\n",
    "    data = np.random.multivariate_normal(means, cov, size=cov.shape[0])\n",
    "    \n",
    "    resultframe = pd.DataFrame(data, columns=frame.columns.tolist()[1:])\n",
    "    # print(resultframe)\n",
    "\n",
    "    return resultframe\n",
    "\n",
    "# This can be put in a for loop to generate many samples, then call testmodel on each sample, record average error, \n",
    "\n",
    "generated = DGP()\n",
    "scaler = StandardScaler()\n",
    "generatedy = generated[\"% Smokers\"].to_numpy().reshape(-1, 1)\n",
    "generatedy = pd.DataFrame(scaler.fit_transform(generatedy), columns=[\"% Smokers\"])\n",
    "X = generated.drop(columns=[\"% Smokers\"])\n",
    "X = pd.DataFrame(scaler.fit_transform(X), columns=X.columns.tolist())\n",
    "\n",
    "X_train, X_test, y_train, y_test = train_test_split(X[X.columns.tolist()[1:]], generatedy)\n",
    "\n",
    "def trainmodel(xtrain, ytrain, modelname):\n",
    "    if modelname == \"OLS\":\n",
    "        model = sm.OLS(ytrain, xtrain)\n",
    "        results = model.fit()\n",
    "\n",
    "        return results.params.tolist()\n",
    "    elif modelname == \"Lasso\":\n",
    "        CV = LassoCV(cv=10, max_iter=10000).fit(xtrain, ytrain.ravel())\n",
    "        # print(f\"Lambda: {CV.alpha_}\")\n",
    "        model = Lasso(alpha=CV.alpha_, max_iter=10000).fit(xtrain, ytrain.ravel())\n",
    "        betas = np.array(model.coef_)\n",
    "\n",
    "        # print(betas)\n",
    "        return betas\n",
    "    elif modelname == \"DLasso\":\n",
    "        IVtrain = xtrain.to_numpy()[:, -1]\n",
    "        IVtrain.reshape(len(IVtrain), 1)\n",
    "        CV = LassoCV(cv=10, max_iter=10000).fit(xtrain, IVtrain.ravel())\n",
    "        model = Lasso(alpha=CV.alpha_, max_iter=10000).fit(xtrain, IVtrain.ravel())\n",
    "        c1 = np.array(model.coef_)\n",
    "\n",
    "        CV2 = LassoCV(cv=10, max_iter=10000).fit(xtrain, IVtrain.ravel())\n",
    "        model = Lasso(alpha=CV.alpha_, max_iter=10000).fit(xtrain, ytrain.ravel())\n",
    "        c2 = np.array(model.coef_)\n",
    "\n",
    "        union = np.add(abs(c1), abs(c2))\n",
    "        print(union.shape)\n",
    "        covariates = ((union >= 10 ** -5)).flatten()\n",
    "        # print(xtrain.to_numpy())\n",
    "        X_cov = np.concatenate((np.vstack(IVtrain), xtrain.to_numpy()[:, covariates]), axis=1)\n",
    "\n",
    "        model = sm.OLS(ytrain, X_cov)\n",
    "        results = model.fit()\n",
    "\n",
    "        return results.params.tolist()\n",
    "\n",
    "\n",
    "\n",
    "def testmodel(xtest, ytest, xtrain, ytrain, modelname):\n",
    "    beta = np.array(trainmodel(xtrain, ytrain, modelname)).reshape(-1, 1)\n",
    "\n",
    "    y = np.array(ytest).reshape(-1, 1)\n",
    "    X = np.array(xtest)\n",
    "\n",
    "    error = y - X @ beta\n",
    "    avgerror = np.average(abs(error))\n",
    "\n",
    "    return avgerror\n",
    "\n",
    "def getstats():\n",
    "    OLSerr = []\n",
    "    Lassoerr = []\n",
    "    DLassoerr = []\n",
    "    for _ in range(100):\n",
    "        generated = DGP()\n",
    "        scaler = StandardScaler()\n",
    "        generatedy = generated[\"% Smokers\"].to_numpy().reshape(-1, 1)\n",
    "        generatedy = pd.DataFrame(scaler.fit_transform(generatedy), columns=[\"% Smokers\"]).to_numpy()\n",
    "        X = generated.drop(columns=[\"% Smokers\"])\n",
    "        X = pd.DataFrame(scaler.fit_transform(X), columns=X.columns.tolist())\n",
    "        X_train, X_test, y_train, y_test = train_test_split(X[X.columns.tolist()[1:]], generatedy)\n",
    "        OLSerr.append(testmodel(X_test, y_test, X_train, y_train, \"OLS\"))\n",
    "        Lassoerr.append(testmodel(X_test, y_test, X_train, y_train, \"Lasso\"))\n",
    "        # DLassoerr.append(testmodel(X_test, y_test, X_train, y_train, \"DLasso\"))\n",
    "    \n",
    "    totalavgOLS = np.average(abs(np.array(OLSerr)))\n",
    "    totalavgLasso = np.average(abs(np.array(Lassoerr)))\n",
    "\n",
    "    print(f\"Average Error across all samples (OLS): {totalavgOLS}\")\n",
    "    print(f\"Average Error across all samples (Lasso): {totalavgLasso}\")\n",
    "\n",
    "\n",
    "\n",
    "getstats()\n",
    "\n",
    "\n",
    "\n",
    "\n"
   ]
  },
  {
   "cell_type": "code",
   "execution_count": 320,
   "metadata": {},
   "outputs": [],
   "source": []
  }
 ],
 "metadata": {
  "interpreter": {
   "hash": "61eb8fe88ea432b6afa73c9ed19113eee30991c50087b1f732d100c35dce5633"
  },
  "kernelspec": {
   "display_name": "Python 3.7.6 ('base')",
   "language": "python",
   "name": "python3"
  },
  "language_info": {
   "codemirror_mode": {
    "name": "ipython",
    "version": 3
   },
   "file_extension": ".py",
   "mimetype": "text/x-python",
   "name": "python",
   "nbconvert_exporter": "python",
   "pygments_lexer": "ipython3",
   "version": "3.7.6"
  },
  "orig_nbformat": 4
 },
 "nbformat": 4,
 "nbformat_minor": 2
}
